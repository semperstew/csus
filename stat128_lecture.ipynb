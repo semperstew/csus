{
 "cells": [
  {
   "cell_type": "code",
   "execution_count": 5,
   "metadata": {
    "slideshow": {
     "slide_type": "skip"
    }
   },
   "outputs": [
    {
     "data": {
      "text/plain": [
       "{'theme': 'serif', 'transition': 'zoom', 'start_slideshow_at': 'selected'}"
      ]
     },
     "execution_count": 5,
     "metadata": {},
     "output_type": "execute_result"
    }
   ],
   "source": [
    "from traitlets.config.manager import BaseJSONConfigManager\n",
    "path = \"/usr/local/miniconda3/envs/csus/etc/jupyter/nbconfig\"\n",
    "cm = BaseJSONConfigManager(config_dir=path)\n",
    "cm.update(\"livereveal\", {\n",
    "              \"theme\": \"serif\",\n",
    "              \"transition\": \"zoom\",\n",
    "              \"start_slideshow_at\": \"selected\",\n",
    "})"
   ]
  },
  {
   "cell_type": "markdown",
   "metadata": {
    "slideshow": {
     "slide_type": "slide"
    }
   },
   "source": [
    "<h1 style=\"font-size: 200%\">\n",
    "    <center>Neural Networks and Deep Learning</center>\n",
    "</h1>\n",
    "<br>\n",
    "<br>\n",
    "<figure>\n",
    "    <center><img src=\"https://cdn-images-1.medium.com/max/800/1*dnvGC-PORSoCo7VXT3PV_A.png\" width='65%'></img>\n",
    "    </center>\n",
    "</figure>"
   ]
  },
  {
   "cell_type": "markdown",
   "metadata": {
    "slideshow": {
     "slide_type": "slide"
    }
   },
   "source": [
    "<h1 style=\"font-size: 150%\">\n",
    "    <center>What is Deep Learning?</center>\n",
    "</h1>"
   ]
  },
  {
   "cell_type": "markdown",
   "metadata": {
    "slideshow": {
     "slide_type": "fragment"
    }
   },
   "source": [
    " - Another name for multi-layered artificial neural networks."
   ]
  },
  {
   "cell_type": "markdown",
   "metadata": {
    "slideshow": {
     "slide_type": "fragment"
    }
   },
   "source": [
    " - First proposed in 1944 by Warren McCullough and Walter Pitts"
   ]
  },
  {
   "cell_type": "markdown",
   "metadata": {
    "slideshow": {
     "slide_type": "fragment"
    }
   },
   "source": [
    " - Went in and out of fashion for ~70 years, enjoying a resurgence in the last decade."
   ]
  },
  {
   "cell_type": "markdown",
   "metadata": {
    "slideshow": {
     "slide_type": "fragment"
    }
   },
   "source": [
    " - Loosely modeled after the human brain, composed of thousands or millions of densely-connected processing nodes."
   ]
  },
  {
   "cell_type": "markdown",
   "metadata": {
    "slideshow": {
     "slide_type": "subslide"
    }
   },
   "source": [
    "<h1 style=\"font-size: 150%\"><center>Why did deep learning take so long to go mainstream?</center></h1>"
   ]
  },
  {
   "cell_type": "markdown",
   "metadata": {
    "slideshow": {
     "slide_type": "fragment"
    }
   },
   "source": [
    "<h3>#1: data volume</h3>\n",
    "<br>\n",
    "<figure>\n",
    "    <center>\n",
    "        <img src=\"https://3qeqpr26caki16dnhd19sv6by6v-wpengine.netdna-ssl.com/wp-content/uploads/2016/08/Why-Deep-Learning-1024x742.png\" style=\"width: 40%\"></img>\n",
    "        <figcaption><cite>credit: Andrew Ng</cite></figcaption>\n",
    "    </center>\n",
    "</figure>"
   ]
  },
  {
   "cell_type": "markdown",
   "metadata": {
    "slideshow": {
     "slide_type": "subslide"
    }
   },
   "source": [
    "<h3>#1: data volume</h3>\n",
    "<br>\n",
    "<blockquote>\n",
    "    \"Over 2.5 quintillion bytes of data are created every single day, and it’s only going to grow from there. By 2020, it’s estimated that 1.7MB of data will be created every second for every person on earth.\"\n",
    "    <footer><cite>Data Never Sleeps - 6.0</cite> Domo.com</footer>\n",
    "</blockquote>"
   ]
  },
  {
   "cell_type": "markdown",
   "metadata": {
    "slideshow": {
     "slide_type": "subslide"
    }
   },
   "source": [
    "<h1 style=\"font-size: 150%\"><center>Why did it take so long to go mainstream?</center></h1>\n",
    "\n",
    "<h3>#2: computational power</h3>\n",
    "<br>\n",
    "<figure>\n",
    "    <center>\n",
    "        <img src=\"https://cnet1.cbsistatic.com/img/lyL9qfCY61x88WWLApASPSJfh30=/2018/06/24/023f597e-7c5d-4dc1-b533-390bc9f28e17/supercomputer-power-increase.jpg\" style=\"width: 100%\"></img>\n",
    "        <figcaption><cite>Credit: CNet.com</cite></figcaption>\n",
    "    </center>\n",
    "</figure>\n"
   ]
  },
  {
   "cell_type": "markdown",
   "metadata": {
    "slideshow": {
     "slide_type": "subslide"
    }
   },
   "source": [
    "<h1 style=\"font-size: 150%\"><center>Why did it take so long to go mainstream?</center></h1>\n",
    "\n",
    "<h3>#3: back-propagation algorithm</h3>\n",
    "<br>\n",
    "<figure>\n",
    "    <center>\n",
    "        <img src=\"http://neuralnetworksanddeeplearning.com/images/tikz21.png\" style=\"width: 50%\"></img>\n",
    "        <figcaption><cite>Credit: Michael Nielson</cite></figcaption>\n",
    "    </center>\n",
    "</figure>\n",
    "\n"
   ]
  },
  {
   "cell_type": "markdown",
   "metadata": {
    "slideshow": {
     "slide_type": "notes"
    }
   },
   "source": [
    " - Backpropagation algorithm introduced by multiple researchers in the 60's.\n",
    " - Geoffrey Hinton co-authored first publication on the backpropagation algorithm for training multi-layer perceptron networks in 1986."
   ]
  },
  {
   "cell_type": "markdown",
   "metadata": {
    "slideshow": {
     "slide_type": "slide"
    }
   },
   "source": [
    "<h1 style=\"150%\"><center>Logistic Regression and Perceptrons</center></h1>\n",
    "<br>\n",
    "<figure>\n",
    "    <center>\n",
    "        <img src=\"https://sebastianraschka.com/images/faq/logisticregr-neuralnet/schematic.png\" style=\"width: 50%\"></img>\n",
    "        <figcaption><cite>Credit: Sebastian Raschka</cite></figcaption>\n",
    "    </center>\n",
    "</figure>"
   ]
  },
  {
   "cell_type": "markdown",
   "metadata": {
    "slideshow": {
     "slide_type": "notes"
    }
   },
   "source": [
    " - Logistic regression can be thought of as a single-layer neural network.\n",
    " - Today, one of the most common neuron activation functions is the sigmoid function.\n",
    " - Perceptron model is similar, minus the thresholding function. It applies weights to binary inputs, sums the weighted inputs and then uses some threshold to force a binary output."
   ]
  },
  {
   "cell_type": "markdown",
   "metadata": {
    "slideshow": {
     "slide_type": "slide"
    }
   },
   "source": [
    "<figure>\n",
    "    <center>\n",
    "        <img src=\"https://sebastianraschka.com/images/faq/logisticregr-neuralnet/schematic.png\" style=\"width: 40%\"></img>\n",
    "    </center>\n",
    "</figure>"
   ]
  },
  {
   "cell_type": "markdown",
   "metadata": {
    "slideshow": {
     "slide_type": "fragment"
    }
   },
   "source": [
    "<center>$$\\text{output}=\\left\\{\n",
    "\\begin{array}{ll}\n",
    "      0 & \\text{if} \\; \\sum_{j}w_{j}x_{j} \\le \\text{threshold} \\\\\n",
    "      1 & \\text{if} \\; \\sum_{j}w_{j}x_{j} > \\text{threshold} \\\\\n",
    "\\end{array} \n",
    "\\right. $$</center>"
   ]
  },
  {
   "cell_type": "markdown",
   "metadata": {
    "slideshow": {
     "slide_type": "subslide"
    }
   },
   "source": [
    "<h2><center>Perceptron Model</center></h2>\n",
    "<br>\n",
    "<center>$$\\text{output}=\\left\\{\n",
    "\\begin{array}{ll}\n",
    "      0 & \\text{if} \\; \\sum_{j}w_{j}x_{j} \\le \\text{threshold} \\\\\n",
    "      1 & \\text{if} \\; \\sum_{j}w_{j}x_{j} > \\text{threshold} \\\\\n",
    "\\end{array} \n",
    "\\right. $$</center>"
   ]
  },
  {
   "cell_type": "markdown",
   "metadata": {
    "slideshow": {
     "slide_type": "fragment"
    }
   },
   "source": [
    "<center>$$w \\cdot x \\equiv \\sum_{j}w_{j}x_{j}$$</center>"
   ]
  },
  {
   "cell_type": "markdown",
   "metadata": {
    "slideshow": {
     "slide_type": "fragment"
    }
   },
   "source": [
    "<center>\n",
    "$$b \\equiv -\\text{threshold}$$\n",
    "</center>"
   ]
  },
  {
   "cell_type": "markdown",
   "metadata": {
    "slideshow": {
     "slide_type": "subslide"
    }
   },
   "source": [
    "<center>$$\\text{output}=\\left\\{\n",
    "\\begin{array}{ll}\n",
    "      0 & \\text{if} \\; w \\cdot x + b \\le 0 \\\\\n",
    "      1 & \\text{if} \\; w \\cdot x + b > 0 \\\\\n",
    "\\end{array} \n",
    "\\right. $$</center>\n",
    "<br>\n",
    "<figure>\n",
    "    <center>\n",
    "        <img src=\"https://www.intmath.com/laplace-transformation/svg/svgphp-unit-step-functions-definition-1a-s0.svg\" style=\"width: 40%\"></img>\n",
    "    </center>\n",
    "</figure>"
   ]
  },
  {
   "cell_type": "markdown",
   "metadata": {
    "slideshow": {
     "slide_type": "slide"
    }
   },
   "source": [
    "<h2><center>Sigmoid Model</center></h2>\n",
    "<br>\n",
    "<center>\n",
    "    $$\\sigma(z) \\equiv \\frac{1}{1+e^{-z}}$$\n",
    "</center>\n",
    "<br>\n",
    "<figure>\n",
    "    <center>\n",
    "        <img src=\"https://upload.wikimedia.org/wikipedia/commons/thumb/8/88/Logistic-curve.svg/320px-Logistic-curve.svg.png\" style=\"width: 40%\"></img>\n",
    "    </center>\n",
    "</figure>"
   ]
  },
  {
   "cell_type": "markdown",
   "metadata": {
    "slideshow": {
     "slide_type": "notes"
    }
   },
   "source": [
    " - It looks like a smooth version of the step-function.\n",
    " - Let's replace z with our weighted sum from before. "
   ]
  },
  {
   "cell_type": "markdown",
   "metadata": {
    "slideshow": {
     "slide_type": "subslide"
    }
   },
   "source": [
    "<center>\n",
    "    $$\\sigma(z) \\equiv \\frac{1}{1+e^{-(w \\cdot x + b)}}$$\n",
    "</center>"
   ]
  },
  {
   "cell_type": "markdown",
   "metadata": {
    "slideshow": {
     "slide_type": "fragment"
    }
   },
   "source": [
    "<center>\n",
    "    $$\\Delta \\text{output} \\approx \\sum_j \\frac{\\partial \\, \\text{output}}{\\partial w_j}\\Delta w_j + \\frac{\\partial \\, \\text{output}}{\\partial b}\\Delta b $$\n",
    "</center>"
   ]
  },
  {
   "cell_type": "markdown",
   "metadata": {
    "slideshow": {
     "slide_type": "notes"
    }
   },
   "source": [
    " - As I said before, we essentially have a smoothed out version of the step-function and that makes all the difference in the world.\n",
    " - That means that small nudges to our weights and bias terms will cause small changes in our output.\n",
    " - A little Calculus can help us approximate that change.\n",
    " - Remember this little fact. We'll return to it in a bit."
   ]
  },
  {
   "cell_type": "markdown",
   "metadata": {
    "slideshow": {
     "slide_type": "slide"
    }
   },
   "source": [
    "<h1><center>Image Recognition</center></h1>\n",
    "\n",
    "// place example output here."
   ]
  },
  {
   "cell_type": "markdown",
   "metadata": {},
   "source": []
  },
  {
   "cell_type": "markdown",
   "metadata": {
    "slideshow": {
     "slide_type": "slide"
    }
   },
   "source": [
    "<figure>\n",
    "    <center>\n",
    "        <img src=\"https://cdn-images-1.medium.com/max/616/1*Uhr-4VDJD0-gnteUNFzZTw.jpeg\" style=\"width: 60%\"></img>\n",
    "    </center>\n",
    "</figure>"
   ]
  },
  {
   "cell_type": "markdown",
   "metadata": {
    "slideshow": {
     "slide_type": "notes"
    }
   },
   "source": [
    " - This is only a small representation of a deep neural net.\n",
    " - We have a circle in the input layer for each pixel in our image.\n",
    " - As we move deeper in our network, each hidden layer is composed of the output of some special matrix operations (such as convolutions and pooling) which are fed to an activation function, like the sigmoid function.\n",
    " - The choice and ordering of these matrix operations are what really differentiate one Neural Network architecture from another.\n",
    " - Convolutions apply binary filters to the pixels and allow us to perform edge detection.\n",
    " - Pooling helps to control the number of parameters by taking the max or average of the values in the layers. This is important since more parameters in the model equates to longer computation time.\n",
    " - Hidden Layer 1 gives us patterns of local contrast such as edges. Essentially boundaries between dark and light pixels.\n",
    " - Hidden Layer 2 takes the outputs from Hidden Layer 1 and combines them together to form more abstract features like eyes, noses, lips and ears.\n",
    " - The final Hidden Layer takes the output from the previous layer, combining them together to form entire regions of a face.\n",
    " - Finally, the Output layer gives us a vectorized representation of the entire face. \n",
    " - Keep in mind, these are floating point numbers. So our network has learned to abstract the entire face and encode that knowledge into a vector of relatively few numbers."
   ]
  },
  {
   "cell_type": "markdown",
   "metadata": {
    "slideshow": {
     "slide_type": "subslide"
    }
   },
   "source": [
    "<figure>\n",
    "    <center>\n",
    "        <img src=\"https://slideplayer.com/slide/12295802/72/images/8/Feature+mapping+%F0%9D%91%A5+%3D+%5B+0.66%2C+0.3%2C+0.03+%E2%80%A6%5D+Raw+image+Feature+vector.jpg\" style=\"width: 70%\"></img>\n",
    "    </center>\n",
    "</figure>"
   ]
  },
  {
   "cell_type": "markdown",
   "metadata": {
    "slideshow": {
     "slide_type": "notes"
    }
   },
   "source": [
    " - one value for color, one for height, one for face shape, one for fluffiness, one for tail length, and so on..."
   ]
  },
  {
   "cell_type": "markdown",
   "metadata": {
    "slideshow": {
     "slide_type": "slide"
    }
   },
   "source": [
    "<h2><center>Example Input</center></h2>\n",
    "<br>\n",
    "<figure>\n",
    "    <center>\n",
    "        <img src=\"http://xrds.acm.org/blog/wp-content/uploads/2016/06/Figure1.png\" style=\"width: 60%\"></img>\n",
    "    </center>\n",
    "</figure>\n"
   ]
  },
  {
   "cell_type": "markdown",
   "metadata": {
    "slideshow": {
     "slide_type": "notes"
    }
   },
   "source": [
    " - Color images have three channels Red-Green-Blue, each represented by a pixel matrix of intensity values.\n",
    " - The images I'm using are 200x200 and have an additional channel called a depth map."
   ]
  },
  {
   "cell_type": "markdown",
   "metadata": {
    "slideshow": {
     "slide_type": "slide"
    }
   },
   "source": [
    "<h3><center>Apple FaceID Setup Process</center></h3>\n",
    "<br>\n",
    "<figure>\n",
    "    <center>\n",
    "        <img src=\"https://cdn-images-1.medium.com/max/800/1*wqhYOqBfBxiJpZMDBi19Rg.gif\" style=\"width: 80%\"></img>\n",
    "        <figcaption><cite>Credit: Apple Inc.</cite></figcaption>\n",
    "    </center>\n",
    "</figure>"
   ]
  },
  {
   "cell_type": "markdown",
   "metadata": {
    "slideshow": {
     "slide_type": "subslide"
    }
   },
   "source": [
    "<h3><center>Depth Map</center></h3>\n",
    "<br>\n",
    "<figure>\n",
    "    <center>\n",
    "        <img src=\"https://cdn-images-1.medium.com/max/800/1*kizoJc7jAowF7bh4MTxzDg.gif\" style=\"width: 40%\"></img>\n",
    "    </center>\n",
    "</figure>"
   ]
  },
  {
   "cell_type": "markdown",
   "metadata": {
    "slideshow": {
     "slide_type": "slide"
    }
   },
   "source": [
    "<h2><center>Example Convolutional Neural Network</center></h2>\n",
    "<br>\n",
    "<figure>\n",
    "    <center>\n",
    "        <img src=\"https://www.researchgate.net/profile/Takio_Kurita/publication/320748406/figure/fig1/AS:555719381274624@1509505233044/An-example-of-CNN-architecture.png\" style=\"width: 70%\"></img>\n",
    "    </center>\n",
    "</figure>"
   ]
  },
  {
   "cell_type": "markdown",
   "metadata": {
    "slideshow": {
     "slide_type": "notes"
    }
   },
   "source": [
    " - Multiple convolution and pooling layers stacked on top of each other. \n",
    " - Again, convolutions allow us to detect features like edges\n",
    " - Pooling layers basically asks the regions of the input matrices whether a particular feature exists. It keeps only the \"best\" answer and throws away the other values. It doesn't need to know in which exact pixels the feature resides, only its location relative to the other features. As a helpful bonus, this also helps control the size of our network.\n",
    " - Generally, after each convolution-pooling pair, there will be some non-linear activation function (like the sigmoid). The output from this function will be the inputs to the next convolution-pooling pair.\n",
    " - Finally, we have the output layer. \n",
    " - So far, we've seen how a neural network feeds an input image forward through the layers to produce some abstract vector representation. But how does a neural network know if it is learning the correct representation of our input image???"
   ]
  },
  {
   "cell_type": "markdown",
   "metadata": {
    "slideshow": {
     "slide_type": "slide"
    }
   },
   "source": [
    "<h1><center>The Cost Function</center></h1>"
   ]
  },
  {
   "cell_type": "markdown",
   "metadata": {
    "slideshow": {
     "slide_type": "fragment"
    }
   },
   "source": [
    " - Allows us to penalize the network for learning incorrect representation, and reward (penalize less) the network for learning a correct representation."
   ]
  },
  {
   "cell_type": "markdown",
   "metadata": {
    "slideshow": {
     "slide_type": "fragment"
    }
   },
   "source": [
    " - Ideally, we would also like to tell the network **how much** to change the output and in which direction, to become more correct."
   ]
  },
  {
   "cell_type": "markdown",
   "metadata": {
    "slideshow": {
     "slide_type": "fragment"
    }
   },
   "source": [
    "<figure>\n",
    "    <center>\n",
    "        <img src=\"http://labs.centerforgov.org/Analytics-Training/images/warning.png\" style=\"width: 20%\"></img>\n",
    "    </center>\n",
    "</figure>\n",
    "<h2><center>Warning: Math Ahead!</center></h2>"
   ]
  },
  {
   "cell_type": "markdown",
   "metadata": {
    "slideshow": {
     "slide_type": "slide"
    }
   },
   "source": [
    "<h2><center>Quadratic Cost Function (a.k.a MSE)</center></h2>"
   ]
  },
  {
   "cell_type": "markdown",
   "metadata": {
    "slideshow": {
     "slide_type": "fragment"
    }
   },
   "source": [
    "$$C(w,b) \\equiv \\frac{1}{2n} \\sum_x \\|y(x)-a\\|^2$$"
   ]
  },
  {
   "cell_type": "markdown",
   "metadata": {
    "slideshow": {
     "slide_type": "notes"
    }
   },
   "source": [
    " - $w$ is the collection of all weights in the network, $b$ is the collection of all biases in the network, $a$ is the vector of outputs from the network, $x$ is the vector of inputs, and $n$ is the number of samples.\n",
    " - Always non-negative since every term in the sum is non-negative.\n",
    " - $C(w,b) \\approx 0$ when $y(x) \\approx a$. Thus the network does a good job when it finds combinations of weights and biases such that $C(w,b) \\approx 0$.\n",
    " - That means minimizing $C(w,b)$."
   ]
  },
  {
   "cell_type": "markdown",
   "metadata": {
    "slideshow": {
     "slide_type": "fragment"
    }
   },
   "source": [
    "<figure>\n",
    "    <center>\n",
    "        <img src=\"https://nikcheerla.github.io/deeplearningschool//media/loss3d.gif\" style=\"width: 40%\"></img>\n",
    "    </center>\n",
    "</figure>"
   ]
  },
  {
   "cell_type": "markdown",
   "metadata": {
    "slideshow": {
     "slide_type": "slide"
    }
   },
   "source": [
    "<h2><center>Gradient Descent</center></h2>"
   ]
  },
  {
   "cell_type": "markdown",
   "metadata": {
    "slideshow": {
     "slide_type": "fragment"
    }
   },
   "source": [
    "$$\\Delta C \\approx \\frac{\\partial C}{\\partial v_1} \\Delta v_1 + \\frac{\\partial C}{\\partial v_2} \\Delta v_2$$"
   ]
  },
  {
   "cell_type": "markdown",
   "metadata": {
    "slideshow": {
     "slide_type": "notes"
    }
   },
   "source": [
    " - Let's keep things simple by replacing $w$ and $b$ with $v$, and considering only 2 variables."
   ]
  },
  {
   "cell_type": "markdown",
   "metadata": {
    "slideshow": {
     "slide_type": "fragment"
    }
   },
   "source": [
    "$$\\Delta v \\equiv (v_1,v_2)^T$$"
   ]
  },
  {
   "cell_type": "markdown",
   "metadata": {
    "slideshow": {
     "slide_type": "notes"
    }
   },
   "source": [
    "- $\\Delta v$ is the vector of changes in $v$."
   ]
  },
  {
   "cell_type": "markdown",
   "metadata": {
    "slideshow": {
     "slide_type": "fragment"
    }
   },
   "source": [
    "$$\\nabla C \\equiv \\left(\\frac{\\partial C}{\\partial v_1},\\frac{\\partial C}{\\partial v_2}\\right)^T$$"
   ]
  },
  {
   "cell_type": "markdown",
   "metadata": {
    "slideshow": {
     "slide_type": "notes"
    }
   },
   "source": [
    "- Gradient of $C$ is vector of partial derivatives with respect to $v$'s."
   ]
  },
  {
   "cell_type": "markdown",
   "metadata": {
    "slideshow": {
     "slide_type": "fragment"
    }
   },
   "source": [
    "$$\\Delta C \\approx \\nabla C \\cdot \\Delta v$$"
   ]
  },
  {
   "cell_type": "markdown",
   "metadata": {
    "slideshow": {
     "slide_type": "notes"
    }
   },
   "source": [
    "- Gradient helps us choose $\\Delta v$ so as to make $\\Delta C$ negative.\n",
    "- With a little foresight and some mathemagic, I have an idea what value to choose."
   ]
  },
  {
   "cell_type": "markdown",
   "metadata": {
    "slideshow": {
     "slide_type": "subslide"
    }
   },
   "source": [
    "<h2><center>Gradient Descent, cont.</center></h2>"
   ]
  },
  {
   "cell_type": "markdown",
   "metadata": {
    "slideshow": {
     "slide_type": "fragment"
    }
   },
   "source": [
    "$$\\Delta v = -\\alpha \\nabla C$$\n",
    "$$\\alpha > 0$$"
   ]
  },
  {
   "cell_type": "markdown",
   "metadata": {
    "slideshow": {
     "slide_type": "notes"
    }
   },
   "source": [
    "- $\\alpha$ is a very small positive number that we call the learning rate. It controls how far we move with each step. Choosing too large an $\\alpha$ and we could overshoot our minimum. Choosing too small of an $\\alpha$ and it'll take a long time to get there."
   ]
  },
  {
   "cell_type": "markdown",
   "metadata": {
    "slideshow": {
     "slide_type": "fragment"
    }
   },
   "source": [
    "$$\\Delta C \\approx -\\alpha \\nabla C \\cdot \\nabla C = -\\alpha \\|\\nabla C\\|^2$$"
   ]
  },
  {
   "cell_type": "markdown",
   "metadata": {
    "slideshow": {
     "slide_type": "fragment"
    }
   },
   "source": [
    "<center>Since $\\|\\nabla C\\|^2 \\ge 0$, we can be sure that $\\Delta C \\le 0$.</center>"
   ]
  },
  {
   "cell_type": "markdown",
   "metadata": {
    "slideshow": {
     "slide_type": "fragment"
    }
   },
   "source": [
    "$$v \\longrightarrow v' = v - \\alpha \\nabla C$$"
   ]
  },
  {
   "cell_type": "markdown",
   "metadata": {
    "slideshow": {
     "slide_type": "slide"
    }
   },
   "source": [
    "<h2><center>What was this for again?</center></h2>"
   ]
  },
  {
   "cell_type": "markdown",
   "metadata": {
    "slideshow": {
     "slide_type": "fragment"
    }
   },
   "source": [
    "<h5>Want to minimize cost function: $C(w,b) \\equiv \\frac{1}{2n} \\sum_x \\|y(x)-a\\|^2$</h5>\n",
    "<figure>\n",
    "    <center>\n",
    "        <img src=\"https://nikcheerla.github.io/deeplearningschool//media/loss3d.gif\" style=\"width: 20%\"></img>\n",
    "    </center>\n",
    "</figure>"
   ]
  },
  {
   "cell_type": "markdown",
   "metadata": {
    "slideshow": {
     "slide_type": "fragment"
    }
   },
   "source": [
    "$$w_k \\longrightarrow w_k' = w_k - \\alpha \\frac{\\partial C}{\\partial w_k}$$"
   ]
  },
  {
   "cell_type": "markdown",
   "metadata": {
    "slideshow": {
     "slide_type": "fragment"
    }
   },
   "source": [
    "$$b_l \\longrightarrow b_l' = b_l - \\alpha \\frac{\\partial C}{\\partial b_l}$$"
   ]
  },
  {
   "cell_type": "markdown",
   "metadata": {
    "slideshow": {
     "slide_type": "notes"
    }
   },
   "source": [
    "- repreatedly apply this update until we reach the minimum. That is, there is nothing else that our network can learn from the data at hand to improve its estimate."
   ]
  },
  {
   "cell_type": "markdown",
   "metadata": {
    "slideshow": {
     "slide_type": "slide"
    }
   },
   "source": [
    "<figure>\n",
    "    <center>\n",
    "        <img src=\"https://mommyvino.files.wordpress.com/2017/04/barack.jpeg?w=720\" style=\"width: 70%\"></img>\n",
    "    </center>\n",
    "</figure>"
   ]
  },
  {
   "cell_type": "markdown",
   "metadata": {
    "slideshow": {
     "slide_type": "slide"
    }
   },
   "source": [
    "<h2><center>Back to the fun stuff</center></h2>\n",
    "<figure>\n",
    "    <center>\n",
    "        <img src=\"https://www.researchgate.net/profile/Takio_Kurita/publication/320748406/figure/fig1/AS:555719381274624@1509505233044/An-example-of-CNN-architecture.png\" style=\"width: 40%\"></img>\n",
    "    </center>\n",
    "</figure>\n",
    "<figure>\n",
    "    <center>\n",
    "        <img src=\"./images/sample.png\" style=\"width: 40%\"></img>\n",
    "    </center>\n",
    "</figure>"
   ]
  },
  {
   "cell_type": "markdown",
   "metadata": {
    "slideshow": {
     "slide_type": "slide"
    }
   },
   "source": [
    "<figure>\n",
    "    <center>\n",
    "        <img src=\"./images/sample2.png\" style=\"width: 40%\"></img>\n",
    "    </center>\n",
    "</figure>\n",
    "<figure>\n",
    "    <center>\n",
    "        <img src=\"./images/sample3.png\" style=\"width: 40%\"></img>\n",
    "    </center>\n",
    "</figure>"
   ]
  },
  {
   "cell_type": "markdown",
   "metadata": {
    "slideshow": {
     "slide_type": "slide"
    }
   },
   "source": [
    "<figure>\n",
    "    <center>\n",
    "        <img src=\"https://cdn-images-1.medium.com/max/1200/1*XzVUiq-3lYFtZEW3XfmKqg.jpeg\" style=\"width: 40%\"></img>\n",
    "    </center>\n",
    "</figure>\n"
   ]
  },
  {
   "cell_type": "code",
   "execution_count": null,
   "metadata": {
    "slideshow": {
     "slide_type": "slide"
    }
   },
   "outputs": [],
   "source": [
    "import os\n",
    "import pandas as pd\n",
    "import numpy as np\n",
    "from PIL import Image\n",
    "from glob import glob\n",
    "from datetime import datetime as dt\n",
    "from keras.models import Sequential, Model\n",
    "from keras.layers import Dense, Activation, Flatten, Dropout, Lambda, ELU, concatenate, GlobalAveragePooling2D, Input, BatchNormalization, SeparableConv2D, Subtract, concatenate\n",
    "from keras.activations import relu, softmax\n",
    "from keras.layers.convolutional import Convolution2D\n",
    "from keras.layers.pooling import MaxPooling2D, AveragePooling2D\n",
    "from keras.optimizers import Adam, RMSprop, SGD\n",
    "from keras.regularizers import l2\n",
    "from keras import backend as K\n",
    "from keras.callbacks import TensorBoard\n",
    "K.tensorflow_backend._get_available_gpus()"
   ]
  },
  {
   "cell_type": "code",
   "execution_count": null,
   "metadata": {
    "slideshow": {
     "slide_type": "subslide"
    }
   },
   "outputs": [],
   "source": [
    "np.random.seed(1775)\n",
    "pjoin = os.path.join\n",
    "TRAIN_FOLDERS = glob('/data/rgbd_face_data/train/*')\n",
    "TEST_FOLDERS = glob('/data/rgbd_face_data/test/*')"
   ]
  },
  {
   "cell_type": "code",
   "execution_count": null,
   "metadata": {
    "slideshow": {
     "slide_type": "subslide"
    }
   },
   "outputs": [],
   "source": [
    "def make_img_pair(fpaths, identical=True):\n",
    "    folder1 = folder2 = np.random.choice(fpaths)\n",
    "    if not identical:\n",
    "        while os.path.samefile(folder1, folder2):\n",
    "            folder2 = np.random.choice(fpaths)\n",
    "    rgb_path1 = rgb_path2 = np.random.choice(glob(pjoin(folder1, \"*.bmp\")))\n",
    "    while os.path.samefile(rgb_path1, rgb_path2):\n",
    "        rgb_path2 = np.random.choice(glob(pjoin(folder2, \"*.bmp\")))\n",
    "    depth_path1 = rgb_path1[:-5] + \"d.dat\"\n",
    "    depth_path2 = rgb_path2[:-5] + \"d.dat\"\n",
    "    \n",
    "    # process image 1\n",
    "    rgb1 = Image.open(rgb_path1)\n",
    "    rgb1.thumbnail((640,480))\n",
    "    rgb1 = np.asarray(rgb1)[140:340, 220:420, :3]\n",
    "    depth1 = pd.read_csv(depth_path1, sep='\\t', header=None)\n",
    "    depth1[(depth1 > 3000)|(depth1 == -1)] = 3000\n",
    "    depth1 = depth1.values[140:340, 220:420]\n",
    "    depth1 = (depth1 - np.mean(depth1))/np.max(depth1)\n",
    "    rgbd1 = np.dstack((rgb1, depth1))\n",
    "    \n",
    "    # process image 2\n",
    "    rgb2 = Image.open(rgb_path1)\n",
    "    rgb2.thumbnail((640,480))\n",
    "    rgb2 = np.asarray(rgb2)[140:340, 220:420, :3]\n",
    "    depth2 = pd.read_csv(depth_path2, sep='\\t', header=None)\n",
    "    depth2[(depth2 > 3000)|(depth2 == -1)] = 3000\n",
    "    depth2 = depth2.values[140:340, 220:420]\n",
    "    depth2 = (depth2 - np.mean(depth2))/np.max(depth2)\n",
    "    rgbd2 = np.dstack((rgb2, depth2))\n",
    "    \n",
    "    return np.array([rgbd1, rgbd2])"
   ]
  },
  {
   "cell_type": "code",
   "execution_count": null,
   "metadata": {
    "slideshow": {
     "slide_type": "subslide"
    }
   },
   "outputs": [],
   "source": [
    "def euclidean_distance(inputs):\n",
    "    assert len(inputs) == 2, 'Euclidean distance needs 2 inputs, {} given'.format(len(inputs))\n",
    "    u, v = inputs\n",
    "    return K.sqrt(K.sum((K.square(u - v)), axis=1, keepdims=True))\n",
    "        \n",
    "\n",
    "def contrastive_loss(y_true,y_pred):\n",
    "    margin=1.\n",
    "    return K.mean((1. - y_true) * K.square(y_pred) + y_true * K.square(K.maximum(margin - y_pred, 0.)))"
   ]
  },
  {
   "cell_type": "markdown",
   "metadata": {
    "slideshow": {
     "slide_type": "slide"
    }
   },
   "source": [
    "<h1><center>Contrastive Loss</center></h1>"
   ]
  },
  {
   "cell_type": "markdown",
   "metadata": {
    "slideshow": {
     "slide_type": "fragment"
    }
   },
   "source": [
    "$$L(W,Y,\\vec{X_1},\\vec{X_2}) = (1-Y)\\frac{1}{2}(D_W)^2 + (Y)\\frac{1}{2}{max(0,m-D_W)}^2$$"
   ]
  },
  {
   "cell_type": "code",
   "execution_count": null,
   "metadata": {
    "slideshow": {
     "slide_type": "slide"
    }
   },
   "outputs": [],
   "source": [
    "def generator(batch_size, folders):\n",
    "    while True:\n",
    "        X = []\n",
    "        y = []\n",
    "        identical = True\n",
    "        for _ in range(batch_size):\n",
    "            X.append(make_img_pair(folders, identical=identical))\n",
    "            y.append(np.array([0.]))\n",
    "            identical = not identical\n",
    "        X = np.asarray(X)\n",
    "        y = np.asarray(y)\n",
    "        yield [X[:,0],X[:,1]], y\n",
    "        \n",
    "def fire(x, squeeze=16, expand=64):\n",
    "    x = Convolution2D(squeeze, (1,1), padding='valid')(x)\n",
    "    x = Activation('relu')(x)\n",
    "    \n",
    "    left = Convolution2D(expand, (1,1), padding='valid')(x)\n",
    "    left = Activation('relu')(left)\n",
    "    \n",
    "    right = Convolution2D(expand, (3,3), padding='same')(x)\n",
    "    right = Activation('relu')(right)\n",
    "    \n",
    "    x = concatenate([left, right], axis=3)\n",
    "    return x"
   ]
  },
  {
   "cell_type": "code",
   "execution_count": null,
   "metadata": {
    "slideshow": {
     "slide_type": "subslide"
    }
   },
   "outputs": [],
   "source": [
    "img_input=Input(shape=(200,200,4))\n",
    "\n",
    "x = Convolution2D(64, (5, 5), strides=(2, 2), padding='valid')(img_input)\n",
    "x = BatchNormalization()(x)\n",
    "x = Activation('relu')(x)\n",
    "x = MaxPooling2D(pool_size=(3, 3), strides=(2, 2))(x)\n",
    "\n",
    "x = fire(x, squeeze=16, expand=16)\n",
    "x = fire(x, squeeze=16, expand=16)\n",
    "x = MaxPooling2D(pool_size=(3, 3), strides=(2, 2))(x)\n",
    "\n",
    "\n",
    "x = fire(x, squeeze=32, expand=32)\n",
    "x = fire(x, squeeze=32, expand=32)\n",
    "x = MaxPooling2D(pool_size=(3, 3), strides=(2, 2))(x)\n",
    "\n",
    "\n",
    "x = fire(x, squeeze=48, expand=48)\n",
    "x = fire(x, squeeze=48, expand=48)\n",
    "x = fire(x, squeeze=64, expand=64)\n",
    "x = fire(x, squeeze=64, expand=64)\n",
    "\n",
    "x = Dropout(0.2)(x)\n",
    "\n",
    "x = Convolution2D(512, (1, 1), padding='same')(x)\n",
    "out = Activation('relu')(x)\n",
    "\n",
    "modelsqueeze = Model(img_input, out)"
   ]
  },
  {
   "cell_type": "code",
   "execution_count": null,
   "metadata": {
    "slideshow": {
     "slide_type": "subslide"
    }
   },
   "outputs": [],
   "source": [
    "im_in = Input(shape=(200,200,4))\n",
    "\n",
    "x1 = modelsqueeze(im_in)\n",
    "\n",
    "x1 = Flatten()(x1)\n",
    "\n",
    "x1 = Dense(512, activation=\"relu\")(x1)\n",
    "x1 = Dropout(0.2)(x1)\n",
    "feat_x = Dense(128, activation=\"linear\")(x1)\n",
    "feat_x = Lambda(lambda  x: K.l2_normalize(x,axis=1))(feat_x)\n",
    "\n",
    "model_top = Model(inputs = [im_in], outputs = feat_x)\n",
    "\n",
    "im_in1 = Input(shape=(200,200,4))\n",
    "im_in2 = Input(shape=(200,200,4))\n",
    "\n",
    "feat_x1 = model_top(im_in1)\n",
    "feat_x2 = model_top(im_in2)\n",
    "\n",
    "lambda_merge = Lambda(euclidean_distance)([feat_x1, feat_x2])\n",
    "\n",
    "model_final = Model(inputs = [im_in1, im_in2], outputs = lambda_merge)\n",
    "\n",
    "model_final.summary()\n",
    "\n",
    "adam = Adam(lr=0.001)\n",
    "\n",
    "sgd = SGD(lr=0.001, momentum=0.9)\n",
    "\n",
    "model_final.compile(optimizer=adam, loss=contrastive_loss)"
   ]
  },
  {
   "cell_type": "code",
   "execution_count": null,
   "metadata": {
    "slideshow": {
     "slide_type": "subslide"
    }
   },
   "outputs": [],
   "source": [
    "time = dt.strftime(dt.now(), format='%Y-%m-%d_%H:%M:%S')\n",
    "tensorboard = TensorBoard(log_dir='/home/astewart/repos/faceid/logs/{}'.format(time))\n",
    "\n",
    "outputs = model_final.fit_generator(generator(32, TRAIN_FOLDERS), \n",
    "                                    steps_per_epoch=30, epochs=100, verbose=1,\n",
    "                                    validation_data=generator(4, TEST_FOLDERS), \n",
    "                                    validation_steps=20, callbacks=[tensorboard])"
   ]
  },
  {
   "cell_type": "code",
   "execution_count": null,
   "metadata": {},
   "outputs": [],
   "source": []
  }
 ],
 "metadata": {
  "celltoolbar": "Slideshow",
  "kernelspec": {
   "display_name": "Python 3",
   "language": "python",
   "name": "python3"
  },
  "language_info": {
   "codemirror_mode": {
    "name": "ipython",
    "version": 3
   },
   "file_extension": ".py",
   "mimetype": "text/x-python",
   "name": "python",
   "nbconvert_exporter": "python",
   "pygments_lexer": "ipython3",
   "version": "3.7.0"
  }
 },
 "nbformat": 4,
 "nbformat_minor": 2
}
