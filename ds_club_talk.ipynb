{
 "cells": [
  {
   "cell_type": "code",
   "execution_count": 1,
   "metadata": {
    "slideshow": {
     "slide_type": "skip"
    }
   },
   "outputs": [
    {
     "data": {
      "text/plain": [
       "{'start_slideshow_at': 'selected', 'theme': 'serif', 'transition': 'zoom'}"
      ]
     },
     "execution_count": 1,
     "metadata": {},
     "output_type": "execute_result"
    }
   ],
   "source": [
    "from traitlets.config.manager import BaseJSONConfigManager\n",
    "path = \"/home/astewart/.jupyter/nbconfig\"\n",
    "cm = BaseJSONConfigManager(config_dir=path)\n",
    "cm.update(\"livereveal\", {\n",
    "              \"theme\": \"serif\",\n",
    "              \"transition\": \"zoom\",\n",
    "              \"start_slideshow_at\": \"selected\",\n",
    "})"
   ]
  },
  {
   "cell_type": "markdown",
   "metadata": {
    "slideshow": {
     "slide_type": "slide"
    }
   },
   "source": [
    "<h1 style=\"font-size: 250%\">\n",
    "    <center>CSUS Data Science Club 2018</center>\n",
    "</h1>\n",
    "<figure>\n",
    "    <center><img src=\"images/Data_Science_VD.png\" >\n",
    "    <figcaption><cite>Data Science Venn Diagram</cite> by Drew Conway, 2013</figcaption>\n",
    "    </center>\n",
    "</figure>"
   ]
  },
  {
   "cell_type": "markdown",
   "metadata": {
    "slideshow": {
     "slide_type": "slide"
    }
   },
   "source": [
    "<h1><center>Who am I and why am I here?</center></h1>\n",
    "<div class=\"row\">\n",
    "  <div class=\"column\">\n",
    "    <img src=\"images/csus_logo.png\" alt=\"CSUS Logo\" style=\"width:60%\">\n",
    "  </div>\n",
    "  <div class=\"column\">\n",
    "    <img src=\"images/georgetown20logo.png\" alt=\"GU Logo\" style=\"width:100%\">\n",
    "  </div>\n",
    "  <div class=\"column\">\n",
    "    <img src=\"images/ERI Logo 2018 - Stacked with Tagline - Medium.png\" alt=\"ERI Logo\" style=\"width:150%\">\n",
    "  </div>\n",
    "</div>\n"
   ]
  },
  {
   "cell_type": "markdown",
   "metadata": {
    "slideshow": {
     "slide_type": "slide"
    }
   },
   "source": [
    "<h1><center>What is Data Science?</center><h1>"
   ]
  },
  {
   "cell_type": "markdown",
   "metadata": {
    "slideshow": {
     "slide_type": "fragment"
    }
   },
   "source": [
    "<center><blockquote>Data science is an interdisciplinary field that uses scientific methods, processes, algorithms and systems to extract knowledge and insights from data in various forms, both structured and unstructured, similar to data mining.\n",
    "    <footer>Wikipedia, 2018</footer>    \n",
    "</blockquote><center>"
   ]
  },
  {
   "cell_type": "markdown",
   "metadata": {
    "slideshow": {
     "slide_type": "subslide"
    }
   },
   "source": [
    "<figure>\n",
    "    <center><img src=\"images/ds_lifecycle_chart.png\" style=\"width: 40%\"></img>\n",
    "    <figcaption><cite>Credit: Sudeep.com</cite></figcaption>\n",
    "    </center>\n",
    "</figure>"
   ]
  },
  {
   "cell_type": "markdown",
   "metadata": {
    "slideshow": {
     "slide_type": "slide"
    }
   },
   "source": [
    "<h1><center>Public Sector Clients</center></h1>\n",
    "<br>\n",
    "<div class=\"row\" style=\"display: flex; flex-wrap: wrap; padding: 0 4px;\"> \n",
    "  <div class=\"column\" style=\"flex: 50%; padding: 0 4px;\">\n",
    "    <img src=\"https://www.ssa.gov/framework/images/logo.svg\" style=\"\">\n",
    "    <img src=\"images/1200px-Logo_of_the_Internal_Revenue_Service.svg.png\" style=\"\">\n",
    "  </div>\n",
    "  <div class=\"column\" style=\"flex: 50%; padding: 0 4px;\">\n",
    "    <img src=\"images/1200px-Seal_of_the_United_States_Securities_and_Exchange_Commission.svg.png\" style=\"\">\n",
    "    <img src=\"images/2000px-Seal_of_the_United_States_Department_of_Labor.svg.png\" style=\"\">\n",
    "  </div>\n",
    "  <div class=\"column\" style=\"flex: 50%; padding: 0 4px;\">\n",
    "    <img src=\"images/1200px-Seal_of_the_U.S._Department_of_Veterans_Affairs.svg.png\" style=\"\">\n",
    "    <img src=\"images/2000px-Seal_of_the_United_States_Department_of_Health_and_Human_Services.svg.png\" style=\"width:100%\">\n",
    "  </div>\n",
    "  <div class=\"column\" style=\"flex: 50%; padding: 0 4px;\">\n",
    "    <img src=\"images/1200px-United_States_Department_of_Defense_Seal.svg.png\" style=\"margin-top: 8px; vertical-align: middle;\">\n",
    "    <img src=\"images/2000px-Emblem_of_the_United_States_Department_of_the_Army.svg.png\" style=\"margin-top: 8px; vertical-align: middle;\">\n",
    "  </div>\n",
    "  <div class=\"column\" style=\"flex: 50%; padding: 0 4px;\">\n",
    "    <img src=\"images/1200px-Seal_of_the_U.S._Defense_Intelligence_Agency.svg.png\" style=\"margin-top: 8px; vertical-align: middle;\">\n",
    "    <img src=\"images/2000px-Seal_of_the_United_States_Department_of_the_Navy.svg.png\" style=\"margin-top: 8px; vertical-align: middle;\">\n",
    "  </div>\n",
    "  <div class=\"column\" style=\"flex: 50%; padding: 0 4px;\">\n",
    "    <img src=\"images/1200px-Seal_of_the_United_States_Department_of_Homeland_Security.svg.png\" style=\"\">\n",
    "    <img src=\"images/1200px-US-NationalGeospatialIntelligenceAgency-2008Seal.svg.png\" style=\"\">\n",
    "  </div> \n",
    "</div>"
   ]
  },
  {
   "cell_type": "markdown",
   "metadata": {
    "slideshow": {
     "slide_type": "slide"
    }
   },
   "source": [
    "<h1><center>Private Sector Clients</center></h1>\n",
    "<br>\n",
    " <div class=\"row\" style=\"display: flex; flex-wrap: wrap; padding: 0 4px;\"> \n",
    "  <div class=\"column\" style=\"flex: 50%; padding: 0 4px;\">\n",
    "    <img src=\"images/2000px-Geico_logo.svg.png\" style=\"\">\n",
    "    <br>\n",
    "    <img src=\"images/1280px-John_Hancock_Insurance_Logo.svg.png\" style=\"\">\n",
    "    <img src=\"images/FannieMae_Logo-SQ-xlg.png\" style=\"\">\n",
    "  </div>\n",
    "  <div class=\"column\" style=\"flex: 50%; padding: 0 4px;\">\n",
    "    <img src=\"images/1200px-Capital_One_logo.svg.png\" style=\"\">\n",
    "    <br>\n",
    "    <img src=\"images/1200px-Nvidia_image_logo.svg.png\" style=\"\">\n",
    "  </div>\n",
    "  <div class=\"column\" style=\"flex: 50%; padding: 0 4px;\">\n",
    "    <img src=\"images/2000px-HSBC.svg.png\" style=\"\">\n",
    "    <img src=\"images/hVIVO_logo-jpeg-April-2015.jpg\" style=\"\">\n",
    "    <img src=\"https://owprodmarketing.blob.core.windows.net/firm-95/Logo.d1313.png\" style=\"\">\n",
    "  </div>\n",
    "  <div class=\"column\" style=\"flex: 50%; padding: 0 4px;\">\n",
    "    <img src=\"images/2000px-Procter_and_Gamble_Logo.svg.png\" style=\"\">\n",
    "    <br>\n",
    "    <img src=\"images/1200px-Pfizer.svg.png\" style=\"margin-top: 8px; vertical-align: middle;\">\n",
    "  </div>\n",
    "  <div class=\"column\" style=\"flex: 50%; padding: 0 4px;\">\n",
    "    <img src=\"images/anheuser_busch.png\" style=\"width:100%\">\n",
    "    <br>\n",
    "    <img src=\"images/250px-United_Way_Worldwide_logo.svg.png\" style=\"\">\n",
    "  </div>\n",
    "  <div class=\"column\" style=\"flex: 50%; padding: 0 4px;\">\n",
    "    <img src=\"images/1200px-UPS_Logo_Shield_2017.svg.png\" style=\"width:60%\">\n",
    "    <img src=\"images/1200px-BP_Helios_logo.svg.png\" style=\"width:60%\">\n",
    "  </div> \n",
    "</div>"
   ]
  },
  {
   "cell_type": "markdown",
   "metadata": {
    "slideshow": {
     "slide_type": "slide"
    }
   },
   "source": [
    "<center><h1>Who are Data Scientists?</h1></center>\n",
    "<center><h2>...and how do I become one?</h2></center>"
   ]
  },
  {
   "cell_type": "markdown",
   "metadata": {
    "slideshow": {
     "slide_type": "fragment"
    }
   },
   "source": [
    "<div class=\"row\">\n",
    "    <div class=\"column\">\n",
    "        <figure>\n",
    "            <center>\n",
    "                <img src=\"images/Data_Science_VD.png\" style=\"width: 100%\">\n",
    "                <figcaption><cite>Data Science Venn Diagram</cite>, Drew Conway (2013)</figcaption>\n",
    "            </center>\n",
    "        </figure>\n",
    "    </div>\n",
    "    <div class=\"column\">\n",
    "        <figure>\n",
    "            <center>\n",
    "                <img src=\"images/data-science-venn-stephan-kolassa.png\" style=\"width: 100%\">\n",
    "                <figcaption><cite>(New) Data Science Venn Diagram</cite>, Stephen Kolassa (2014)</figcaption>\n",
    "            </center>\n",
    "        </figure>\n",
    "    </div>\n",
    "    <div class=\"column\">\n",
    "        <figure>\n",
    "            <center>\n",
    "                <img src=\"images/DataScienceDisciplines.png\" style=\"width: 100%\">\n",
    "                <figcaption><cite>(Not a) Data Science Venn Diagram</cite>, Wikipedia</figcaption>\n",
    "            </center>\n",
    "        </figure>\n",
    "    </div>\n",
    "</div>"
   ]
  },
  {
   "cell_type": "markdown",
   "metadata": {
    "slideshow": {
     "slide_type": "subslide"
    }
   },
   "source": [
    "<h3>University Degrees</h3>\n",
    "<ul>\n",
    "    <li>88% have at least Master's Degree</li>\n",
    "    <li>46% have a PhD</li>\n",
    "</ul>"
   ]
  },
  {
   "cell_type": "markdown",
   "metadata": {
    "slideshow": {
     "slide_type": "fragment"
    }
   },
   "source": [
    "<h3>Most common fields of study</h3>\n",
    "<ul>\n",
    "    <li>32% Mathematics and Statistics</li>\n",
    "    <li>19% Computer Science</li>\n",
    "    <li>16% Engineering</li>\n",
    "</ul>"
   ]
  },
  {
   "cell_type": "markdown",
   "metadata": {
    "slideshow": {
     "slide_type": "fragment"
    }
   },
   "source": [
    "<h3>BUT...Training never stops</h3>\n",
    "<p>university courses, MOOCS, Certifications, OJT, company-sponsored training</p>"
   ]
  },
  {
   "cell_type": "markdown",
   "metadata": {
    "slideshow": {
     "slide_type": "slide"
    }
   },
   "source": [
    "<h2>$139,840</h2><p>National average salary of a Data Scientist. Glassdoor, Oct 7, 2018</p>\n",
    "\n",
    "<h2>$104,406</h2><p>National average salary of entry-level (0-1 years) Data Scientist</p>"
   ]
  },
  {
   "cell_type": "markdown",
   "metadata": {
    "slideshow": {
     "slide_type": "slide"
    }
   },
   "source": [
    "<h1><center>What do data scientist's do?</center></h1>\n",
    "<figure>\n",
    "    <center><img src=\"https://i.pinimg.com/originals/a3/e0/99/a3e099bafddd61abfffe1b3202796c58.jpg\" style=\"width: 80%\"></img>\n",
    "    <figcaption><cite>Credit: Sudeep.com</cite></figcaption>\n",
    "    </center>\n",
    "</figure>"
   ]
  },
  {
   "cell_type": "markdown",
   "metadata": {
    "slideshow": {
     "slide_type": "slide"
    }
   },
   "source": [
    "<h1><center>Tools & Software</center></h1>\n",
    "<br>\n",
    "<div class=\"row\" style=\"display: flex; flex-wrap: wrap; padding: 0 4px;\"> \n",
    "  <div class=\"column\" style=\"flex: 50%; padding: 0 4px;\">\n",
    "    <img src=\"images/Python_logo_wordmark.png\" style=\"vertical-align: middle\">\n",
    "    <img src=\"images/1200px-Java_programming_language_logo.svg.png\" style=\"vertical-align: middle; width: 35%\">      \n",
    "    <img src=\"images/rapidminer-logo-retina.png\" style=\"vertical-align: middle; width: 200%\">\n",
    "    <img src=\"images/pytorch-logo-dark.png\" style=\"vertical-align: middle\">\n",
    "  </div>\n",
    "  <div class=\"column\" style=\"flex: 50%; padding: 0 4px;\">\n",
    "    <img src=\"images/991px-R_logo.svg.png\" style=\"vertical-align: middle; width:50%\">\n",
    "    <img src=\"images/connector-excel-logo.png\" style=\"vertical-align: middle; width:80%\">\n",
    "    <img src=\"images/1513617132-google-cloud.svg\" style=\"vertical-align: middle\">\n",
    "    <img src=\"images/1280px-RedHat.svg.png\" style=\"vertical-align: middle\">\n",
    "  </div>\n",
    "  <div class=\"column\" style=\"flex: 50%; padding: 0 4px;\">\n",
    "    <img src=\"images/postgre-sql-logo-600AD1A66B-seeklogo.com.png\" style=\"vertical-align: middle; width: 80%\">\n",
    "    <img src=\"images/2000px-Apache_Spark_logo.svg.png\" style=\"vertical-align: middle; width:100%\">\n",
    "    <img src=\"https://camo.githubusercontent.com/7c9b27101ba491969d016f2f2427c3e066f7bd0b/68747470733a2f2f63646e2e7261776769742e636f6d2f6f64622f6f6666696369616c2d626173682d6c6f676f2f6d61737465722f6173736574732f4c6f676f732f4964656e746974792f504e472f424153485f6c6f676f2d7472616e73706172656e742d62672d636f6c6f722e706e67\" style=\"vertical-align: middle; width:100%\">\n",
    "  </div>\n",
    "  <div class=\"column\" style=\"flex: 50%; padding: 0 4px;\">\n",
    "    <img src=\"images/2000px-TensorFlowLogo.svg.png\" style=\"vertical-align: middle; width: 70%\">\n",
    "    <img src=\"images/scala-lang-card.png\" style=\"vertical-align: middle\">\n",
    "    <img src=\"images/2000px-Cassandra_logo.svg.png\" style=\"vertical-align: middle\">\n",
    "  </div>\n",
    "  <div class=\"column\" style=\"flex: 50%; padding: 0 4px;\">\n",
    "    <img src=\"images/Hadoop_logo.svg\" style=\"vertical-align: middle\">\n",
    "    <img src=\"images/quote-logo-tableau.png\" style=\"vertical-align: middle\">\n",
    "    <img src=\"images/2000px-Amazon_Web_Services_Logo.svg.png\" style=\"vertical-align: middle; width: 70%\">\n",
    "    <img src=\"images/sas-logo.jpg\" style=\"vertical-align: middle; width: 80%\">\n",
    "  </div>\n",
    "  <div class=\"column\" style=\"flex: 50%; padding: 0 4px;\">\n",
    "    <img src=\"images/keras-logo-2018-large-1200.png\" style=\"vertical-align: middle\">\n",
    "    <img src=\"images/neo4j_logo.png\" style=\"vertical-align: middle\">\n",
    "    <img src=\"images/7388996.png\" style=\"vertical-align: middle; width: 70%\">\n",
    "    <img src=\"images/2000px-Microsoft_Azure_Logo.svg.png\" style=\"vertical-align: middle\">\n",
    "  </div> \n",
    "</div>"
   ]
  }
 ],
 "metadata": {
  "celltoolbar": "Slideshow",
  "kernelspec": {
   "display_name": "Python 3",
   "language": "python",
   "name": "python3"
  },
  "language_info": {
   "codemirror_mode": {
    "name": "ipython",
    "version": 3
   },
   "file_extension": ".py",
   "mimetype": "text/x-python",
   "name": "python",
   "nbconvert_exporter": "python",
   "pygments_lexer": "ipython3",
   "version": "3.5.2"
  }
 },
 "nbformat": 4,
 "nbformat_minor": 2
}
