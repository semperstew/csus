{
 "cells": [
  {
   "cell_type": "code",
   "execution_count": 12,
   "metadata": {
    "slideshow": {
     "slide_type": "skip"
    }
   },
   "outputs": [
    {
     "data": {
      "text/plain": [
       "{'theme': 'serif', 'transition': 'zoom', 'start_slideshow_at': 'beginning'}"
      ]
     },
     "execution_count": 12,
     "metadata": {},
     "output_type": "execute_result"
    }
   ],
   "source": [
    "from traitlets.config.manager import BaseJSONConfigManager\n",
    "path = \"/usr/local/miniconda3/envs/csus/etc/jupyter/nbconfig\"\n",
    "cm = BaseJSONConfigManager(config_dir=path)\n",
    "cm.update(\"livereveal\", {\n",
    "              \"theme\": \"serif\",\n",
    "              \"transition\": \"zoom\",\n",
    "              \"start_slideshow_at\": \"selected\",\n",
    "})"
   ]
  },
  {
   "cell_type": "markdown",
   "metadata": {
    "slideshow": {
     "slide_type": "slide"
    }
   },
   "source": [
    "<h1 style=\"font-size: 250%\">\n",
    "    <center>CSUS Data Science Club 2018</center>\n",
    "</h1>\n",
    "<figure>\n",
    "    <center><img src=\"https://static1.squarespace.com/static/5150aec6e4b0e340ec52710a/t/51525c33e4b0b3e0d10f77ab/1364352052403/Data_Science_VD.png?format=750w\" ></img>\n",
    "    <figcaption><cite>Data Science Venn Diagram</cite> by Drew Conway, 2013</figcaption>\n",
    "    </center>\n",
    "</figure>"
   ]
  },
  {
   "cell_type": "markdown",
   "metadata": {
    "slideshow": {
     "slide_type": "slide"
    }
   },
   "source": [
    "<h1><center>Who am I and why am I here?</center></h1>\n",
    "<div class=\"row\">\n",
    "  <div class=\"column\">\n",
    "    <img src=\"https://www.csus.edu/made/magazine0516/i/logo.png\" alt=\"CSUS Logo\" style=\"width:60%\">\n",
    "  </div>\n",
    "  <div class=\"column\">\n",
    "    <img src=\"https://i1.wp.com/www.newwaysministry.org/wp-content/uploads/2017/03/georgetown20logo.png?fit=400%2C282&ssl=1\" alt=\"GU Logo\" style=\"width:100%\">\n",
    "  </div>\n",
    "  <div class=\"column\">\n",
    "    <img src=\"images/ERI Logo 2018 - Stacked with Tagline - Medium.png\" alt=\"ERI Logo\" style=\"width:150%\">\n",
    "  </div>\n",
    "</div>\n"
   ]
  },
  {
   "cell_type": "markdown",
   "metadata": {
    "slideshow": {
     "slide_type": "slide"
    }
   },
   "source": [
    "<h1><center>What is Data Science?</center><h1>"
   ]
  },
  {
   "cell_type": "markdown",
   "metadata": {
    "slideshow": {
     "slide_type": "fragment"
    }
   },
   "source": [
    "<center><blockquote>Data science is an interdisciplinary field that uses scientific methods, processes, algorithms and systems to extract knowledge and insights from data in various forms, both structured and unstructured, similar to data mining.\n",
    "    <footer>Wikipedia, 2018</footer>    \n",
    "</blockquote><center>"
   ]
  },
  {
   "cell_type": "markdown",
   "metadata": {
    "slideshow": {
     "slide_type": "subslide"
    }
   },
   "source": [
    "<h2>We can do better</h2>"
   ]
  },
  {
   "cell_type": "markdown",
   "metadata": {},
   "source": [
    "Data Science is..."
   ]
  },
  {
   "cell_type": "markdown",
   "metadata": {},
   "source": []
  },
  {
   "cell_type": "markdown",
   "metadata": {
    "slideshow": {
     "slide_type": "slide"
    }
   },
   "source": [
    "<center><h1>Who are Data Scientists?</h1></center>\n",
    "<center><h2>...and how do I become one?</h2></center>"
   ]
  },
  {
   "cell_type": "markdown",
   "metadata": {
    "slideshow": {
     "slide_type": "fragment"
    }
   },
   "source": [
    "<div class=\"row\">\n",
    "    <div class=\"column\">\n",
    "        <figure>\n",
    "            <center>\n",
    "                <img src=\"https://static1.squarespace.com/static/5150aec6e4b0e340ec52710a/t/51525c33e4b0b3e0d10f77ab/1364352052403/Data_Science_VD.png?format=750w\" style=\"width: 100%\">\n",
    "                <figcaption><cite>Data Science Venn Diagram</cite>, Drew Conway (2013)</figcaption>\n",
    "            </center>\n",
    "        </figure>\n",
    "    </div>\n",
    "    <div class=\"column\">\n",
    "        <figure>\n",
    "            <center>\n",
    "                <img src=\"https://www.innoarchitech.com/assets/images/what-data-scientist/data-science-venn-stephan-kolassa.png\" style=\"width: 100%\">\n",
    "                <figcaption><cite>(New) Data Science Venn Diagram</cite>, Stephen Kolassa (2014)</figcaption>\n",
    "            </center>\n",
    "        </figure>\n",
    "    </div>\n",
    "    <div class=\"column\">\n",
    "        <figure>\n",
    "            <center>\n",
    "                <img src=\"https://4.bp.blogspot.com/-3shyHBawRZ8/V-Fxoul_KaI/AAAAAAAAMHo/zPKZfNZFrk08Zyuviz8pAqyJZSRpJr3OwCLcB/s400/DataScienceDisciplines.png\" style=\"width: 100%\">\n",
    "                <figcaption><cite>(Not a) Data Science Venn Diagram</cite>, Wikipedia</figcaption>\n",
    "            </center>\n",
    "        </figure>\n",
    "    </div>\n",
    "</div>"
   ]
  },
  {
   "cell_type": "markdown",
   "metadata": {
    "slideshow": {
     "slide_type": "slide"
    }
   },
   "source": [
    "<h2>$139,840</h2><p>National average salary of a Data Scientist. Glassdoor, Oct 7, 2018</p>\n",
    "\n",
    "<h2>$104,406</h2><p>National average salary of entry-level (0-1 years) Data Scientist</p>"
   ]
  },
  {
   "cell_type": "markdown",
   "metadata": {
    "slideshow": {
     "slide_type": "slide"
    }
   },
   "source": [
    "### What do data scientist's do?"
   ]
  },
  {
   "cell_type": "markdown",
   "metadata": {},
   "source": [
    "What do I do?"
   ]
  },
  {
   "cell_type": "markdown",
   "metadata": {
    "slideshow": {
     "slide_type": "slide"
    }
   },
   "source": [
    "### Tools"
   ]
  },
  {
   "cell_type": "markdown",
   "metadata": {},
   "source": [
    "Cloud Computing"
   ]
  },
  {
   "cell_type": "code",
   "execution_count": null,
   "metadata": {},
   "outputs": [],
   "source": []
  }
 ],
 "metadata": {
  "celltoolbar": "Slideshow",
  "kernelspec": {
   "display_name": "Python 3",
   "language": "python",
   "name": "python3"
  },
  "language_info": {
   "codemirror_mode": {
    "name": "ipython",
    "version": 3
   },
   "file_extension": ".py",
   "mimetype": "text/x-python",
   "name": "python",
   "nbconvert_exporter": "python",
   "pygments_lexer": "ipython3",
   "version": "3.7.0"
  }
 },
 "nbformat": 4,
 "nbformat_minor": 2
}
